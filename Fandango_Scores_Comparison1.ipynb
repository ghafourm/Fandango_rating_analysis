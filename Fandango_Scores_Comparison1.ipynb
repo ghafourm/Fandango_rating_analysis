{
 "cells": [
  {
   "cell_type": "markdown",
   "metadata": {},
   "source": [
    "# Investigating Fandango Movie Ratings\n",
    "¶\n",
    "In this project we will study movie ratings in Fandango's web site rating sytem.\n",
    "We would like to check if rating in this website is biased and the movies are over rated"
   ]
  },
  {
   "cell_type": "code",
   "execution_count": 195,
   "metadata": {
    "collapsed": false
   },
   "outputs": [],
   "source": [
    "import pandas as pd\n",
    "import matplotlib.pyplot as plt\n",
    "%matplotlib inline\n",
    "\n",
    "fandango_compare = pd.read_csv('fandango_score_comparison.csv')\n",
    "movie_ratings_1617 = pd.read_csv('movie_ratings_16_17.csv')"
   ]
  },
  {
   "cell_type": "code",
   "execution_count": 196,
   "metadata": {
    "collapsed": false
   },
   "outputs": [
    {
     "name": "stdout",
     "output_type": "stream",
     "text": [
      "<class 'pandas.core.frame.DataFrame'>\n",
      "RangeIndex: 146 entries, 0 to 145\n",
      "Data columns (total 22 columns):\n",
      "FILM                          146 non-null object\n",
      "RottenTomatoes                146 non-null int64\n",
      "RottenTomatoes_User           146 non-null int64\n",
      "Metacritic                    146 non-null int64\n",
      "Metacritic_User               146 non-null float64\n",
      "IMDB                          146 non-null float64\n",
      "Fandango_Stars                146 non-null float64\n",
      "Fandango_Ratingvalue          146 non-null float64\n",
      "RT_norm                       146 non-null float64\n",
      "RT_user_norm                  146 non-null float64\n",
      "Metacritic_norm               146 non-null float64\n",
      "Metacritic_user_nom           146 non-null float64\n",
      "IMDB_norm                     146 non-null float64\n",
      "RT_norm_round                 146 non-null float64\n",
      "RT_user_norm_round            146 non-null float64\n",
      "Metacritic_norm_round         146 non-null float64\n",
      "Metacritic_user_norm_round    146 non-null float64\n",
      "IMDB_norm_round               146 non-null float64\n",
      "Metacritic_user_vote_count    146 non-null int64\n",
      "IMDB_user_vote_count          146 non-null int64\n",
      "Fandango_votes                146 non-null int64\n",
      "Fandango_Difference           146 non-null float64\n",
      "dtypes: float64(15), int64(6), object(1)\n",
      "memory usage: 25.2+ KB\n",
      "<class 'pandas.core.frame.DataFrame'>\n",
      "RangeIndex: 214 entries, 0 to 213\n",
      "Data columns (total 15 columns):\n",
      "movie           214 non-null object\n",
      "year            214 non-null int64\n",
      "metascore       214 non-null int64\n",
      "imdb            214 non-null float64\n",
      "tmeter          214 non-null int64\n",
      "audience        214 non-null int64\n",
      "fandango        214 non-null float64\n",
      "n_metascore     214 non-null float64\n",
      "n_imdb          214 non-null float64\n",
      "n_tmeter        214 non-null float64\n",
      "n_audience      214 non-null float64\n",
      "nr_metascore    214 non-null float64\n",
      "nr_imdb         214 non-null float64\n",
      "nr_tmeter       214 non-null float64\n",
      "nr_audience     214 non-null float64\n",
      "dtypes: float64(10), int64(4), object(1)\n",
      "memory usage: 25.2+ KB\n"
     ]
    }
   ],
   "source": [
    "fandango_compare.info()\n",
    "movie_ratings_1617.info()"
   ]
  },
  {
   "cell_type": "markdown",
   "metadata": {
    "collapsed": false
   },
   "source": [
    "Equal chance for all movies?"
   ]
  },
  {
   "cell_type": "markdown",
   "metadata": {
    "collapsed": false
   },
   "source": [
    "Movies having less than 30 fan reviews on Fandango or without tickets on sale <br/> were not included in the samples. Therefore all movies do not have equal chance to <br/> be included in the study."
   ]
  },
  {
   "cell_type": "markdown",
   "metadata": {
    "collapsed": false
   },
   "source": [
    "# The difference between Fandango and the other movie rating sites"
   ]
  },
  {
   "cell_type": "markdown",
   "metadata": {
    "collapsed": false
   },
   "source": [
    "Since we are dealing with dataframes containing data from several rating <br/>\n",
    "site, we can compare these data to have a better idea about the difference <br/>\n",
    "between Fandango and other sites."
   ]
  },
  {
   "cell_type": "code",
   "execution_count": 197,
   "metadata": {
    "collapsed": false
   },
   "outputs": [
    {
     "data": {
      "text/plain": [
       "count    146.000000\n",
       "mean       3.845205\n",
       "std        0.502831\n",
       "min        2.700000\n",
       "25%        3.500000\n",
       "50%        3.900000\n",
       "75%        4.200000\n",
       "max        4.800000\n",
       "Name: Fandango_Ratingvalue, dtype: float64"
      ]
     },
     "execution_count": 197,
     "metadata": {},
     "output_type": "execute_result"
    }
   ],
   "source": [
    "# We can use describe() to have a first look\n",
    "fandango_compare['Fandango_Ratingvalue'].describe()"
   ]
  },
  {
   "cell_type": "code",
   "execution_count": 198,
   "metadata": {
    "collapsed": false
   },
   "outputs": [
    {
     "data": {
      "text/plain": [
       "count    146.000000\n",
       "mean       3.193836\n",
       "std        1.001222\n",
       "min        1.000000\n",
       "25%        2.500000\n",
       "50%        3.325000\n",
       "75%        4.050000\n",
       "max        4.700000\n",
       "Name: RT_user_norm, dtype: float64"
      ]
     },
     "execution_count": 198,
     "metadata": {},
     "output_type": "execute_result"
    }
   ],
   "source": [
    "fandango_compare['RT_user_norm'].describe()"
   ]
  },
  {
   "cell_type": "code",
   "execution_count": 199,
   "metadata": {
    "collapsed": false
   },
   "outputs": [
    {
     "data": {
      "text/plain": [
       "count    146.000000\n",
       "mean       3.368493\n",
       "std        0.479368\n",
       "min        2.000000\n",
       "25%        3.150000\n",
       "50%        3.450000\n",
       "75%        3.700000\n",
       "max        4.300000\n",
       "Name: IMDB_norm, dtype: float64"
      ]
     },
     "execution_count": 199,
     "metadata": {},
     "output_type": "execute_result"
    }
   ],
   "source": [
    "fandango_compare['IMDB_norm'].describe()"
   ]
  },
  {
   "cell_type": "code",
   "execution_count": 200,
   "metadata": {
    "collapsed": false
   },
   "outputs": [
    {
     "data": {
      "text/plain": [
       "count    146.000000\n",
       "mean       3.259589\n",
       "std        0.755356\n",
       "min        1.200000\n",
       "25%        2.850000\n",
       "50%        3.425000\n",
       "75%        3.750000\n",
       "max        4.800000\n",
       "Name: Metacritic_user_nom, dtype: float64"
      ]
     },
     "execution_count": 200,
     "metadata": {},
     "output_type": "execute_result"
    }
   ],
   "source": [
    "fandango_compare['Metacritic_user_nom'].describe()"
   ]
  },
  {
   "cell_type": "code",
   "execution_count": 201,
   "metadata": {
    "collapsed": false
   },
   "outputs": [
    {
     "data": {
      "text/plain": [
       "(0.0, 0.5]     0\n",
       "(0.5, 1.0]     0\n",
       "(1.0, 1.5]     0\n",
       "(1.5, 2.0]     0\n",
       "(2.0, 2.5]     0\n",
       "(2.5, 3.0]    13\n",
       "(3.0, 3.5]    30\n",
       "(3.5, 4.0]    41\n",
       "(4.0, 4.5]    55\n",
       "(4.5, 5.0]     7\n",
       "Name: Fandango_Ratingvalue, dtype: int64"
      ]
     },
     "execution_count": 201,
     "metadata": {},
     "output_type": "execute_result"
    }
   ],
   "source": [
    "# We can also use grouped frequency tables to have a better idea about diffrences \n",
    "# between Fandango and the other rating sites\n",
    "\n",
    "rate_interval = pd.interval_range(start=0, end=5, freq=0.5)\n",
    "Fandango_freq_table = fandango_compare['Fandango_Ratingvalue'].value_counts(bins=rate_interval).sort_index()\n",
    "Fandango_freq_table"
   ]
  },
  {
   "cell_type": "code",
   "execution_count": 202,
   "metadata": {
    "collapsed": false
   },
   "outputs": [
    {
     "data": {
      "text/plain": [
       "(0.0, 0.5]     0\n",
       "(0.5, 1.0]     0\n",
       "(1.0, 1.5]     3\n",
       "(1.5, 2.0]    11\n",
       "(2.0, 2.5]    10\n",
       "(2.5, 3.0]    22\n",
       "(3.0, 3.5]    41\n",
       "(3.5, 4.0]    40\n",
       "(4.0, 4.5]    18\n",
       "(4.5, 5.0]     1\n",
       "Name: Metacritic_user_nom, dtype: int64"
      ]
     },
     "execution_count": 202,
     "metadata": {},
     "output_type": "execute_result"
    }
   ],
   "source": [
    "# Metacritics frequency table\n",
    "Metacritics_freq_table = fandango_compare['Metacritic_user_nom'].value_counts(bins=rate_interval).sort_index()\n",
    "Metacritics_freq_table"
   ]
  },
  {
   "cell_type": "code",
   "execution_count": 203,
   "metadata": {
    "collapsed": false
   },
   "outputs": [
    {
     "data": {
      "text/plain": [
       "(0.0, 0.5]     0\n",
       "(0.5, 1.0]     0\n",
       "(1.0, 1.5]     0\n",
       "(1.5, 2.0]     1\n",
       "(2.0, 2.5]     8\n",
       "(2.5, 3.0]    21\n",
       "(3.0, 3.5]    52\n",
       "(3.5, 4.0]    55\n",
       "(4.0, 4.5]     9\n",
       "(4.5, 5.0]     0\n",
       "Name: IMDB_norm, dtype: int64"
      ]
     },
     "execution_count": 203,
     "metadata": {},
     "output_type": "execute_result"
    }
   ],
   "source": [
    "# Imdb frequency table \n",
    "Imdb_freq_table = fandango_compare['IMDB_norm'].value_counts(bins=rate_interval).sort_index()\n",
    "Imdb_freq_table"
   ]
  },
  {
   "cell_type": "code",
   "execution_count": 204,
   "metadata": {
    "collapsed": false
   },
   "outputs": [
    {
     "data": {
      "text/plain": [
       "(0.0, 0.5]    14\n",
       "(0.5, 1.0]    10\n",
       "(1.0, 1.5]    16\n",
       "(1.5, 2.0]     4\n",
       "(2.0, 2.5]    17\n",
       "(2.5, 3.0]    13\n",
       "(3.0, 3.5]    11\n",
       "(3.5, 4.0]    15\n",
       "(4.0, 4.5]    23\n",
       "(4.5, 5.0]    23\n",
       "Name: RT_norm_round, dtype: int64"
      ]
     },
     "execution_count": 204,
     "metadata": {},
     "output_type": "execute_result"
    }
   ],
   "source": [
    "# Rotten Tomatoes frequency table \n",
    "RT_freq_table = fandango_compare['RT_norm_round'].value_counts(bins=rate_interval).sort_index()\n",
    "RT_freq_table"
   ]
  },
  {
   "cell_type": "markdown",
   "metadata": {},
   "source": [
    "These data show that only 13 movies are rated 3 and less in Fandango while the number of movies with rating inferior or equal to 3 are 30, 46 and 74 for imdb, metacritics and RT, respectively."
   ]
  },
  {
   "cell_type": "code",
   "execution_count": 205,
   "metadata": {
    "collapsed": false,
    "scrolled": true
   },
   "outputs": [
    {
     "data": {
      "image/png": "[encoded data removed]",
      "text/plain": [
       "<matplotlib.figure.Figure at 0x7fa74b857400>"
      ]
     },
     "metadata": {},
     "output_type": "display_data"
    }
   ],
   "source": [
    "#We are going to visualize the difference between Fandango and the other rating\n",
    "# sites using histograms \n",
    "plt.subplot(3,1,1)\n",
    "fandango_compare['Fandango_Ratingvalue'].plot.hist(histtype='step', label = 'Fandango', legend = True, figsize=(14, 10))\n",
    "fandango_compare['RT_user_norm'].plot.hist(histtype='step', label = 'RT', legend = True)\n",
    "plt.ylim(0,40)\n",
    "plt.xlim(1,5)\n",
    "plt.title('Fandango ratings vs other rating sites')\n",
    "plt.subplot(3,1,2) \n",
    "fandango_compare['Fandango_Ratingvalue'].plot.hist(histtype='step', label = 'Fandango', legend = True, figsize=(14, 10))\n",
    "fandango_compare['Metacritic_user_nom'].plot.hist(histtype='step', label = 'Metacritic', legend = True)\n",
    "plt.ylim(0,40)\n",
    "plt.xlim(1,5)\n",
    "plt.subplot(3,1,3)\n",
    "fandango_compare['Fandango_Ratingvalue'].plot.hist(histtype='step', label = 'Fandango', legend = True, figsize=(14, 10))\n",
    "fandango_compare['IMDB_norm'].plot.hist(histtype='step', label = 'Imdb', legend = True)\n",
    "plt.ylim(0,40)\n",
    "plt.xlim(1,5)\n",
    "plt.xlabel('rating')\n",
    "#plt.title('Fandango vs IMDB User Rating ')\n",
    "plt.subplots_adjust(hspace=0.7)\n",
    "plt.show()"
   ]
  },
  {
   "cell_type": "markdown",
   "metadata": {},
   "source": [
    "* These plot shows a clear difference between user user votes in Fandango and the other movie rating sites. Fandango's rating are higher than the other sites.<br/>\n",
    "* Since we analysed the user rating, these data show that the difference in rating existed between Fandango and other rating sites before the rounding operation."
   ]
  },
  {
   "cell_type": "markdown",
   "metadata": {},
   "source": [
    " # Checking the changes in Fandango's rating in 2016"
   ]
  },
  {
   "cell_type": "code",
   "execution_count": 206,
   "metadata": {
    "collapsed": false
   },
   "outputs": [
    {
     "name": "stdout",
     "output_type": "stream",
     "text": [
      "<class 'pandas.core.frame.DataFrame'>\n",
      "RangeIndex: 146 entries, 0 to 145\n",
      "Data columns (total 23 columns):\n",
      "FILM                          146 non-null object\n",
      "RottenTomatoes                146 non-null int64\n",
      "RottenTomatoes_User           146 non-null int64\n",
      "Metacritic                    146 non-null int64\n",
      "Metacritic_User               146 non-null float64\n",
      "IMDB                          146 non-null float64\n",
      "Fandango_Stars                146 non-null float64\n",
      "Fandango_Ratingvalue          146 non-null float64\n",
      "RT_norm                       146 non-null float64\n",
      "RT_user_norm                  146 non-null float64\n",
      "Metacritic_norm               146 non-null float64\n",
      "Metacritic_user_nom           146 non-null float64\n",
      "IMDB_norm                     146 non-null float64\n",
      "RT_norm_round                 146 non-null float64\n",
      "RT_user_norm_round            146 non-null float64\n",
      "Metacritic_norm_round         146 non-null float64\n",
      "Metacritic_user_norm_round    146 non-null float64\n",
      "IMDB_norm_round               146 non-null float64\n",
      "Metacritic_user_vote_count    146 non-null int64\n",
      "IMDB_user_vote_count          146 non-null int64\n",
      "Fandango_votes                146 non-null int64\n",
      "Fandango_Difference           146 non-null float64\n",
      "year                          146 non-null int64\n",
      "dtypes: float64(15), int64(7), object(1)\n",
      "memory usage: 26.3+ KB\n"
     ]
    }
   ],
   "source": [
    "# First We are going to idolate movies released in 2015 and 2016.\n",
    "# We are going to extract the year of release and create the 'year' column\n",
    "fandango_compare['year'] = fandango_compare['FILM'].apply(lambda x: int(x.split(\"(\")[1].replace(\")\",\"\")))\n",
    "fandango_compare.info()"
   ]
  },
  {
   "cell_type": "code",
   "execution_count": 207,
   "metadata": {
    "collapsed": true
   },
   "outputs": [],
   "source": [
    "#We are going to isolate movies released in 2015\n",
    "fandango_compare_2015 = fandango_compare[fandango_compare['year'] == 2015]\n",
    "#We are going to isolate movies released in 2016\n",
    "fandango_compare_2016 = movie_ratings_1617[movie_ratings_1617['year']==2016]"
   ]
  },
  {
   "cell_type": "code",
   "execution_count": 208,
   "metadata": {
    "collapsed": false
   },
   "outputs": [
    {
     "data": {
      "text/plain": [
       "(0.0, 0.5]     0\n",
       "(0.5, 1.0]     0\n",
       "(1.0, 1.5]     0\n",
       "(1.5, 2.0]     0\n",
       "(2.0, 2.5]     0\n",
       "(2.5, 3.0]    12\n",
       "(3.0, 3.5]    24\n",
       "(3.5, 4.0]    39\n",
       "(4.0, 4.5]    49\n",
       "(4.5, 5.0]     5\n",
       "Name: Fandango_Ratingvalue, dtype: int64"
      ]
     },
     "execution_count": 208,
     "metadata": {},
     "output_type": "execute_result"
    }
   ],
   "source": [
    "# We use grouped frequency tables to see the diffrences between fandango ratings\n",
    "# in 2015 and 2016\n",
    "fandango_2015=fandango_compare_2015['Fandango_Ratingvalue'].value_counts(bins = rate_interval).sort_index()\n",
    "fandango_2015"
   ]
  },
  {
   "cell_type": "code",
   "execution_count": 209,
   "metadata": {
    "collapsed": false
   },
   "outputs": [
    {
     "data": {
      "text/plain": [
       "(0.0, 0.5]     0\n",
       "(0.5, 1.0]     0\n",
       "(1.0, 1.5]     0\n",
       "(1.5, 2.0]     0\n",
       "(2.0, 2.5]     6\n",
       "(2.5, 3.0]    14\n",
       "(3.0, 3.5]    46\n",
       "(3.5, 4.0]    77\n",
       "(4.0, 4.5]    47\n",
       "(4.5, 5.0]     1\n",
       "Name: fandango, dtype: int64"
      ]
     },
     "execution_count": 209,
     "metadata": {},
     "output_type": "execute_result"
    }
   ],
   "source": [
    "fandango_2016 = fandango_compare_2016['fandango'].value_counts(bins=rate_interval).sort_index()\n",
    "fandango_2016"
   ]
  },
  {
   "cell_type": "markdown",
   "metadata": {},
   "source": [
    "* By looking at the frequency table we can observe an increase in the number of movies <br/> \n",
    "with ratings of 3 and less.<br/>\n",
    "* Another noticableble change in the decrease in the number of movies rated higher than 4.5. <br/> \n",
    "* However to check if Fandango ratings in 2016 has significantly changed we can compare it to ratings from other sites."
   ]
  },
  {
   "cell_type": "code",
   "execution_count": 210,
   "metadata": {
    "collapsed": false
   },
   "outputs": [
    {
     "data": {
      "text/plain": [
       "(0.0, 0.5]     0\n",
       "(0.5, 1.0]     3\n",
       "(1.0, 1.5]    15\n",
       "(1.5, 2.0]    30\n",
       "(2.0, 2.5]    35\n",
       "(2.5, 3.0]    41\n",
       "(3.0, 3.5]    31\n",
       "(3.5, 4.0]    23\n",
       "(4.0, 4.5]    10\n",
       "(4.5, 5.0]     3\n",
       "Name: n_metascore, dtype: int64"
      ]
     },
     "execution_count": 210,
     "metadata": {},
     "output_type": "execute_result"
    }
   ],
   "source": [
    "# Let's calculate frequency tables for other sites rating in 2016\n",
    "# metacritics frequency table\n",
    "metascore_2016 = fandango_compare_2016['n_metascore'].value_counts(bins=rate_interval).sort_index()\n",
    "metascore_2016"
   ]
  },
  {
   "cell_type": "code",
   "execution_count": 211,
   "metadata": {
    "collapsed": false
   },
   "outputs": [
    {
     "data": {
      "text/plain": [
       "(0.0, 0.5]     0\n",
       "(0.5, 1.0]     0\n",
       "(1.0, 1.5]     0\n",
       "(1.5, 2.0]     4\n",
       "(2.0, 2.5]    12\n",
       "(2.5, 3.0]    42\n",
       "(3.0, 3.5]    74\n",
       "(3.5, 4.0]    53\n",
       "(4.0, 4.5]     6\n",
       "(4.5, 5.0]     0\n",
       "Name: n_imdb, dtype: int64"
      ]
     },
     "execution_count": 211,
     "metadata": {},
     "output_type": "execute_result"
    }
   ],
   "source": [
    "#imdb frequency table\n",
    "imdb_2016 = fandango_compare_2016['n_imdb'].value_counts(bins=rate_interval).sort_index()\n",
    "imdb_2016"
   ]
  },
  {
   "cell_type": "code",
   "execution_count": 212,
   "metadata": {
    "collapsed": false
   },
   "outputs": [
    {
     "data": {
      "text/plain": [
       "(0.0, 0.5]     9\n",
       "(0.5, 1.0]    20\n",
       "(1.0, 1.5]    19\n",
       "(1.5, 2.0]    20\n",
       "(2.0, 2.5]    14\n",
       "(2.5, 3.0]    14\n",
       "(3.0, 3.5]    16\n",
       "(3.5, 4.0]    21\n",
       "(4.0, 4.5]    31\n",
       "(4.5, 5.0]    22\n",
       "Name: n_tmeter, dtype: int64"
      ]
     },
     "execution_count": 212,
     "metadata": {},
     "output_type": "execute_result"
    }
   ],
   "source": [
    "#tomatometer frequency table\n",
    "tmeter_2016 = fandango_compare_2016['n_tmeter'].value_counts(bins=rate_interval).sort_index()\n",
    "tmeter_2016"
   ]
  },
  {
   "cell_type": "markdown",
   "metadata": {},
   "source": [
    "These data shows that there are still differences between fandango ratings and <br/>\n",
    "and other sites ratings.<br/>\n",
    "To confirm that we can use box plot to compare different site ratings."
   ]
  },
  {
   "cell_type": "code",
   "execution_count": 213,
   "metadata": {
    "collapsed": false
   },
   "outputs": [
    {
     "data": {
      "image/png": "[encoded data removed]",
      "text/plain": [
       "<matplotlib.figure.Figure at 0x7fa74b8a9358>"
      ]
     },
     "metadata": {},
     "output_type": "display_data"
    }
   ],
   "source": [
    "# We are isolating user rating data rfom fandango, metacritics, imdb and tomatometer\n",
    "# We use these data to create a boxplot\n",
    "compare_16_user_rating = fandango_compare_2016[['fandango','n_metascore','n_imdb','n_tmeter']]\n",
    "compare_16_user_rating.boxplot()\n",
    "plt.title('Movies rating 2016')\n",
    "plt.ylabel('user score')\n",
    "plt.show()"
   ]
  },
  {
   "cell_type": "markdown",
   "metadata": {},
   "source": [
    "This plot shows that in 2016 user rating in fandango are higher than the other sites."
   ]
  },
  {
   "cell_type": "markdown",
   "metadata": {},
   "source": [
    "# Rating of popular movies at Fandango in 2015 and 2016"
   ]
  },
  {
   "cell_type": "code",
   "execution_count": 214,
   "metadata": {
    "collapsed": false
   },
   "outputs": [
    {
     "data": {
      "image/png": "[encoded data removed]",
      "text/plain": [
       "<matplotlib.figure.Figure at 0x7fa743852518>"
      ]
     },
     "metadata": {},
     "output_type": "display_data"
    }
   ],
   "source": [
    "# We are going to use kernel density plot to compare Fandango movie rating in \n",
    "# 2015 and 2016\n",
    "fandango_compare_2015['Fandango_Ratingvalue'].plot.kde(label='2015', legend=True)\n",
    "fandango_compare_2016['fandango'].plot.kde(label='2016', legend=True)\n",
    "plt.style.use('fivethirtyeight')\n",
    "plt.xlim(0, 5)\n",
    "plt.xticks([0, 0.5, 1.0, 1.5, 2.0, 2.5, 3.0, 3.5, 4.0, 4.5, 5.0])\n",
    "plt.xlabel('rating')\n",
    "plt.title(\"Changes in fandango ratings\")\n",
    "plt.show()\n"
   ]
  },
  {
   "cell_type": "markdown",
   "metadata": {},
   "source": [
    "This figure shows that ratings in 2016 have changed and were slightly lower \n",
    "than 2015.<br/>\n",
    "These changes confirm the previous observations we had by analysing frequency tables.<br/>\n",
    "We can look at some statistical parameter to confim these changes."
   ]
  },
  {
   "cell_type": "code",
   "execution_count": 215,
   "metadata": {
    "collapsed": false
   },
   "outputs": [
    {
     "data": {
      "text/plain": [
       "count    129.000000\n",
       "mean       3.846512\n",
       "std        0.505446\n",
       "min        2.700000\n",
       "25%        3.500000\n",
       "50%        3.900000\n",
       "75%        4.200000\n",
       "max        4.800000\n",
       "Name: Fandango_Ratingvalue, dtype: float64"
      ]
     },
     "execution_count": 215,
     "metadata": {},
     "output_type": "execute_result"
    }
   ],
   "source": [
    "fandango_compare_2015['Fandango_Ratingvalue'].describe()"
   ]
  },
  {
   "cell_type": "code",
   "execution_count": 216,
   "metadata": {
    "collapsed": false
   },
   "outputs": [
    {
     "data": {
      "text/plain": [
       "count    191.000000\n",
       "mean       3.887435\n",
       "std        0.509540\n",
       "min        2.500000\n",
       "25%        3.500000\n",
       "50%        4.000000\n",
       "75%        4.250000\n",
       "max        5.000000\n",
       "Name: fandango, dtype: float64"
      ]
     },
     "execution_count": 216,
     "metadata": {},
     "output_type": "execute_result"
    }
   ],
   "source": [
    "fandango_compare_2016['fandango'].describe()"
   ]
  },
  {
   "cell_type": "code",
   "execution_count": 217,
   "metadata": {
    "collapsed": false
   },
   "outputs": [
    {
     "data": {
      "text/plain": [
       "0    4.0\n",
       "dtype: float64"
      ]
     },
     "execution_count": 217,
     "metadata": {},
     "output_type": "execute_result"
    }
   ],
   "source": [
    "med = fandango_compare_2016['fandango'].median()\n",
    "avg = fandango_compare_2016['fandango'].mean()\n",
    "fandango_compare_2016['fandango'].mode()"
   ]
  },
  {
   "cell_type": "code",
   "execution_count": 218,
   "metadata": {
    "collapsed": false
   },
   "outputs": [
    {
     "data": {
      "text/html": [
       "<div>\n",
       "<style scoped>\n",
       "    .dataframe tbody tr th:only-of-type {\n",
       "        vertical-align: middle;\n",
       "    }\n",
       "\n",
       "    .dataframe tbody tr th {\n",
       "        vertical-align: top;\n",
       "    }\n",
       "\n",
       "    .dataframe thead th {\n",
       "        text-align: right;\n",
       "    }\n",
       "</style>\n",
       "<table border=\"1\" class=\"dataframe\">\n",
       "  <thead>\n",
       "    <tr style=\"text-align: right;\">\n",
       "      <th></th>\n",
       "      <th>2015</th>\n",
       "      <th>2016</th>\n",
       "      <th>Fandango user rating statistics</th>\n",
       "    </tr>\n",
       "  </thead>\n",
       "  <tbody>\n",
       "    <tr>\n",
       "      <th>0</th>\n",
       "      <td>3.846512</td>\n",
       "      <td>3.887435</td>\n",
       "      <td>mean</td>\n",
       "    </tr>\n",
       "    <tr>\n",
       "      <th>1</th>\n",
       "      <td>3.900000</td>\n",
       "      <td>4.000000</td>\n",
       "      <td>median</td>\n",
       "    </tr>\n",
       "    <tr>\n",
       "      <th>2</th>\n",
       "      <td>4.100000</td>\n",
       "      <td>4.000000</td>\n",
       "      <td>mode</td>\n",
       "    </tr>\n",
       "  </tbody>\n",
       "</table>\n",
       "</div>"
      ],
      "text/plain": [
       "       2015      2016 Fandango user rating statistics\n",
       "0  3.846512  3.887435                            mean\n",
       "1  3.900000  4.000000                          median\n",
       "2  4.100000  4.000000                            mode"
      ]
     },
     "execution_count": 218,
     "metadata": {},
     "output_type": "execute_result"
    }
   ],
   "source": [
    "fandango_stat = pd.DataFrame({'Fandango user rating statistics': ['mean', 'median', 'mode'],\n",
    "                             '2016':[avg, med, 4.0],\n",
    "                             '2015':[fandango_compare_2015['Fandango_Ratingvalue'].mean(), fandango_compare_2015['Fandango_Ratingvalue'].median(), 4.1]})\n",
    "fandango_stat"
   ]
  },
  {
   "cell_type": "code",
   "execution_count": 219,
   "metadata": {
    "collapsed": false
   },
   "outputs": [
    {
     "name": "stderr",
     "output_type": "stream",
     "text": [
      "/dataquest/system/env/python3/lib/python3.4/site-packages/pandas/plotting/_core.py:1716: UserWarning:\n",
      "\n",
      "Pandas doesn't allow columns to be created via a new attribute name - see https://pandas.pydata.org/pandas-docs/stable/indexing.html#attribute-access\n",
      "\n"
     ]
    },
    {
     "data": {
      "image/png": "[encoded data removed]",
      "text/plain": [
       "<matplotlib.figure.Figure at 0x7fa7457fada0>"
      ]
     },
     "metadata": {},
     "output_type": "display_data"
    }
   ],
   "source": [
    "fandango_stat.plot(x=\"Fandango user rating statistics\", y=[\"2015\", \"2016\"], kind=\"bar\")\n",
    "plt.ylim(0,5)\n",
    "plt.yticks([0, 0.5, 1.0, 1.5, 2.0, 2.5, 3.0, 3.5, 4.0, 4.5, 5.0])\n",
    "plt.ylabel('stars')\n",
    "plt.show()"
   ]
  },
  {
   "cell_type": "code",
   "execution_count": null,
   "metadata": {
    "collapsed": true
   },
   "outputs": [],
   "source": []
  }
 ],
 "metadata": {
  "kernelspec": {
   "display_name": "Python 3",
   "language": "python",
   "name": "python3"
  },
  "language_info": {
   "codemirror_mode": {
    "name": "ipython",
    "version": 3
   },
   "file_extension": ".py",
   "mimetype": "text/x-python",
   "name": "python",
   "nbconvert_exporter": "python",
   "pygments_lexer": "ipython3",
   "version": "3.4.3"
  }
 },
 "nbformat": 4,
 "nbformat_minor": 2
}
